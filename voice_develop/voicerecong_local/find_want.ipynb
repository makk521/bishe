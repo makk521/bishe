{
 "cells": [
  {
   "cell_type": "code",
   "execution_count": 1,
   "metadata": {},
   "outputs": [],
   "source": [
    "import re"
   ]
  },
  {
   "cell_type": "code",
   "execution_count": 2,
   "metadata": {},
   "outputs": [],
   "source": [
    "str = '''ModelConfig(encoder_param=\"./sherpa-ncnn-conv-emformer-transducer-2022-12-06/encoder_jit_trace-pnnx.ncnn.int8.param\", encoder_bin=\"./sherpa-ncnn-conv-emformer-transducer-2022-12-06/encoder_jit_trace-pnnx.ncnn.int8.bin\", decoder_param=\"./sherpa-ncnn-conv-emformer-transducer-2022-12-06/decoder_jit_trace-pnnx.ncnn.param\", decoder_bin=\"./sherpa-ncnn-conv-emformer-transducer-2022-12-06/decoder_jit_trace-pnnx.ncnn.bin\", joiner_param=\"./sherpa-ncnn-conv-emformer-transducer-2022-12-06/joiner_jit_trace-pnnx.ncnn.int8.param\", joiner_bin=\"./sherpa-ncnn-conv-emformer-transducer-2022-12-06/joiner_jit_trace-pnnx.ncnn.int8.bin\", tokens=\"./sherpa-ncnn-conv-emformer-transducer-2022-12-06/tokens.txt\", encoder num_threads=4, decoder num_threads=4, joiner num_threads=4)\n",
    "wav filename: ./sherpa-ncnn-conv-emformer-transducer-2022-12-06/test_wavs/output.wav\n",
    "wav duration (s): 5\n",
    "Started!\n",
    "Done!\n",
    "Recognition result for ./sherpa-ncnn-conv-emformer-transducer-2022-12-06/test_wavs/output.wav\n",
    "枣庄今天天气怎么样\n",
    "Elapsed seconds: 2.452 s\n",
    "Real time factor (RTF): 5.000 / 2.452 = 0.490'''"
   ]
  },
  {
   "cell_type": "code",
   "execution_count": 6,
   "metadata": {},
   "outputs": [
    {
     "data": {
      "text/plain": [
       "'枣庄今天天气怎么样'"
      ]
     },
     "execution_count": 6,
     "metadata": {},
     "output_type": "execute_result"
    }
   ],
   "source": [
    "str.split('\\n')[-3]"
   ]
  }
 ],
 "metadata": {
  "kernelspec": {
   "display_name": "Python 3",
   "language": "python",
   "name": "python3"
  },
  "language_info": {
   "codemirror_mode": {
    "name": "ipython",
    "version": 3
   },
   "file_extension": ".py",
   "mimetype": "text/x-python",
   "name": "python",
   "nbconvert_exporter": "python",
   "pygments_lexer": "ipython3",
   "version": "3.7.9"
  },
  "orig_nbformat": 4,
  "vscode": {
   "interpreter": {
    "hash": "a23257344542c70b70a498512f46db94a3a7f44d371a6893c689768adca66338"
   }
  }
 },
 "nbformat": 4,
 "nbformat_minor": 2
}
