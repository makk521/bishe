{
 "cells": [
  {
   "cell_type": "code",
   "execution_count": 3,
   "metadata": {},
   "outputs": [
    {
     "name": "stdout",
     "output_type": "stream",
     "text": [
      "24.ce6277bec668519f75ac9a24ea705730.2592000.1675310589.282335-24690625\n"
     ]
    }
   ],
   "source": [
    "import requests\n",
    "\n",
    "apiUrl = 'https://openapi.baidu.com/oauth/2.0/token'\n",
    "data = {\n",
    "    'grant_type':'client_credentials',   # 固定值\n",
    "    'client_id':'4wvprFyDikit7dGDmr3qMVW1',   # API Key\n",
    "    'client_secret':'xGZ3AyezrZpncTYnTaXdoONVWfvKB3op',   # Secret Key\n",
    "}\n",
    "try:\n",
    "    r = requests.get(apiUrl, params = data).json()\n",
    "    print(r.get(\"access_token\"))\n",
    "except Exception as e:\n",
    "    print(e)"
   ]
  },
  {
   "cell_type": "code",
   "execution_count": 5,
   "metadata": {},
   "outputs": [
    {
     "name": "stdout",
     "output_type": "stream",
     "text": [
      "访问一次网页，耗时：2.792069673538208\n",
      "{'corpus_no': '7191855883025316419', 'err_msg': 'success.', 'err_no': 0, 'result': ['讯飞开放平台'], 'sn': '691262686241674484434'}\n",
      "讯飞开放平台\n"
     ]
    }
   ],
   "source": [
    "import requests\n",
    "import os\n",
    "import base64\n",
    "import json\n",
    "import time\n",
    "\n",
    "apiUrl='http://vop.baidu.com/server_api'\n",
    "filename = \"intent_repeat.wav\"   # 这是我下载到本地的音频样例文件名\n",
    "size = os.path.getsize(filename)   # 获取本地语音文件尺寸\n",
    "file1 = open(filename, \"rb\").read()   # 读取本地语音文件   \n",
    "text = base64.b64encode(file1).decode(\"utf-8\")   # 对读取的文件进行base64编码\n",
    "data = {\n",
    "    \"format\":\"pcm\",   # 音频格式\n",
    "    \"rate\":16000,   # 采样率，固定值16000\n",
    "    \"dev_pid\":1536,   # 普通话\n",
    "    \"channel\":1,   # 频道，固定值1\n",
    "    \"token\":\"24.ce6277bec668519f75ac9a24ea705730.2592000.1675310589.282335-24690625\",   # 重要，鉴权认证Access Token，需要自己来申请\n",
    "    \"cuid\":\"DC-85-DE-F9-08-59\",   # 随便一个值就好了，官网推荐是个人电脑的MAC地址\n",
    "    \"len\":size,   # 语音文件的尺寸\n",
    "    \"speech\":text,   # base64编码的语音文件\n",
    "}\n",
    "try:\n",
    "    start = time.time()\n",
    "    r = requests.post(apiUrl, data = json.dumps(data)).json()\n",
    "    end = time.time()\n",
    "    print(f'访问一次网页，耗时：{end - start}')\n",
    "    print(r)\n",
    "    print(r.get(\"result\")[0])\n",
    "except Exception as e:\n",
    "    print(e)"
   ]
  },
  {
   "cell_type": "code",
   "execution_count": 23,
   "metadata": {},
   "outputs": [
    {
     "ename": "TypeError",
     "evalue": "not a valid non-string sequence or mapping object",
     "output_type": "error",
     "traceback": [
      "\u001b[1;31m---------------------------------------------------------------------------\u001b[0m",
      "\u001b[1;31mTypeError\u001b[0m                                 Traceback (most recent call last)",
      "\u001b[1;32mc:\\Users\\ASUS\\AppData\\Local\\Programs\\Python\\Python37\\lib\\urllib\\parse.py\u001b[0m in \u001b[0;36murlencode\u001b[1;34m(query, doseq, safe, encoding, errors, quote_via)\u001b[0m\n\u001b[0;32m    900\u001b[0m             \u001b[1;32mif\u001b[0m \u001b[0mlen\u001b[0m\u001b[1;33m(\u001b[0m\u001b[0mquery\u001b[0m\u001b[1;33m)\u001b[0m \u001b[1;32mand\u001b[0m \u001b[1;32mnot\u001b[0m \u001b[0misinstance\u001b[0m\u001b[1;33m(\u001b[0m\u001b[0mquery\u001b[0m\u001b[1;33m[\u001b[0m\u001b[1;36m0\u001b[0m\u001b[1;33m]\u001b[0m\u001b[1;33m,\u001b[0m \u001b[0mtuple\u001b[0m\u001b[1;33m)\u001b[0m\u001b[1;33m:\u001b[0m\u001b[1;33m\u001b[0m\u001b[1;33m\u001b[0m\u001b[0m\n\u001b[1;32m--> 901\u001b[1;33m                 \u001b[1;32mraise\u001b[0m \u001b[0mTypeError\u001b[0m\u001b[1;33m\u001b[0m\u001b[1;33m\u001b[0m\u001b[0m\n\u001b[0m\u001b[0;32m    902\u001b[0m             \u001b[1;31m# Zero-length sequences of all types will get here and succeed,\u001b[0m\u001b[1;33m\u001b[0m\u001b[1;33m\u001b[0m\u001b[1;33m\u001b[0m\u001b[0m\n",
      "\u001b[1;31mTypeError\u001b[0m: ",
      "\nDuring handling of the above exception, another exception occurred:\n",
      "\u001b[1;31mTypeError\u001b[0m                                 Traceback (most recent call last)",
      "\u001b[1;32m~\\AppData\\Local\\Temp/ipykernel_2240/2280622563.py\u001b[0m in \u001b[0;36m<module>\u001b[1;34m\u001b[0m\n\u001b[0;32m     19\u001b[0m \u001b[1;33m\u001b[0m\u001b[0m\n\u001b[0;32m     20\u001b[0m \u001b[1;33m\u001b[0m\u001b[0m\n\u001b[1;32m---> 21\u001b[1;33m \u001b[0mdata\u001b[0m \u001b[1;33m=\u001b[0m \u001b[0murllib\u001b[0m\u001b[1;33m.\u001b[0m\u001b[0mparse\u001b[0m\u001b[1;33m.\u001b[0m\u001b[0murlencode\u001b[0m\u001b[1;33m(\u001b[0m\u001b[0mjson\u001b[0m\u001b[1;33m.\u001b[0m\u001b[0mdumps\u001b[0m\u001b[1;33m(\u001b[0m\u001b[0mdata\u001b[0m\u001b[1;33m)\u001b[0m\u001b[1;33m)\u001b[0m\u001b[1;33m.\u001b[0m\u001b[0mencode\u001b[0m\u001b[1;33m(\u001b[0m\u001b[1;34m\"utf-8\"\u001b[0m\u001b[1;33m)\u001b[0m\u001b[1;33m\u001b[0m\u001b[1;33m\u001b[0m\u001b[0m\n\u001b[0m\u001b[0;32m     22\u001b[0m \u001b[1;31m# req = urllib.request.Request(apiUrl)\u001b[0m\u001b[1;33m\u001b[0m\u001b[1;33m\u001b[0m\u001b[1;33m\u001b[0m\u001b[0m\n\u001b[0;32m     23\u001b[0m \u001b[1;31m# with urllib.request.urlopen(req,data=data) as f:\u001b[0m\u001b[1;33m\u001b[0m\u001b[1;33m\u001b[0m\u001b[1;33m\u001b[0m\u001b[0m\n",
      "\u001b[1;32mc:\\Users\\ASUS\\AppData\\Local\\Programs\\Python\\Python37\\lib\\urllib\\parse.py\u001b[0m in \u001b[0;36murlencode\u001b[1;34m(query, doseq, safe, encoding, errors, quote_via)\u001b[0m\n\u001b[0;32m    907\u001b[0m             \u001b[0mty\u001b[0m\u001b[1;33m,\u001b[0m \u001b[0mva\u001b[0m\u001b[1;33m,\u001b[0m \u001b[0mtb\u001b[0m \u001b[1;33m=\u001b[0m \u001b[0msys\u001b[0m\u001b[1;33m.\u001b[0m\u001b[0mexc_info\u001b[0m\u001b[1;33m(\u001b[0m\u001b[1;33m)\u001b[0m\u001b[1;33m\u001b[0m\u001b[1;33m\u001b[0m\u001b[0m\n\u001b[0;32m    908\u001b[0m             raise TypeError(\"not a valid non-string sequence \"\n\u001b[1;32m--> 909\u001b[1;33m                             \"or mapping object\").with_traceback(tb)\n\u001b[0m\u001b[0;32m    910\u001b[0m \u001b[1;33m\u001b[0m\u001b[0m\n\u001b[0;32m    911\u001b[0m     \u001b[0ml\u001b[0m \u001b[1;33m=\u001b[0m \u001b[1;33m[\u001b[0m\u001b[1;33m]\u001b[0m\u001b[1;33m\u001b[0m\u001b[1;33m\u001b[0m\u001b[0m\n",
      "\u001b[1;32mc:\\Users\\ASUS\\AppData\\Local\\Programs\\Python\\Python37\\lib\\urllib\\parse.py\u001b[0m in \u001b[0;36murlencode\u001b[1;34m(query, doseq, safe, encoding, errors, quote_via)\u001b[0m\n\u001b[0;32m    899\u001b[0m             \u001b[1;31m# non-empty strings will fail this\u001b[0m\u001b[1;33m\u001b[0m\u001b[1;33m\u001b[0m\u001b[1;33m\u001b[0m\u001b[0m\n\u001b[0;32m    900\u001b[0m             \u001b[1;32mif\u001b[0m \u001b[0mlen\u001b[0m\u001b[1;33m(\u001b[0m\u001b[0mquery\u001b[0m\u001b[1;33m)\u001b[0m \u001b[1;32mand\u001b[0m \u001b[1;32mnot\u001b[0m \u001b[0misinstance\u001b[0m\u001b[1;33m(\u001b[0m\u001b[0mquery\u001b[0m\u001b[1;33m[\u001b[0m\u001b[1;36m0\u001b[0m\u001b[1;33m]\u001b[0m\u001b[1;33m,\u001b[0m \u001b[0mtuple\u001b[0m\u001b[1;33m)\u001b[0m\u001b[1;33m:\u001b[0m\u001b[1;33m\u001b[0m\u001b[1;33m\u001b[0m\u001b[0m\n\u001b[1;32m--> 901\u001b[1;33m                 \u001b[1;32mraise\u001b[0m \u001b[0mTypeError\u001b[0m\u001b[1;33m\u001b[0m\u001b[1;33m\u001b[0m\u001b[0m\n\u001b[0m\u001b[0;32m    902\u001b[0m             \u001b[1;31m# Zero-length sequences of all types will get here and succeed,\u001b[0m\u001b[1;33m\u001b[0m\u001b[1;33m\u001b[0m\u001b[1;33m\u001b[0m\u001b[0m\n\u001b[0;32m    903\u001b[0m             \u001b[1;31m# but that's a minor nit.  Since the original implementation\u001b[0m\u001b[1;33m\u001b[0m\u001b[1;33m\u001b[0m\u001b[1;33m\u001b[0m\u001b[0m\n",
      "\u001b[1;31mTypeError\u001b[0m: not a valid non-string sequence or mapping object"
     ]
    }
   ],
   "source": [
    "import urllib\n",
    "import base64\n",
    "import json\n",
    "apiUrl='http://vop.baidu.com/server_api'\n",
    "filename = \"1.wav\"   # 这是我下载到本地的音频样例文件名\n",
    "size = os.path.getsize(filename)   # 获取本地语音文件尺寸\n",
    "file1 = open(filename, \"rb\").read()   # 读取本地语音文件   \n",
    "text = base64.b64encode(file1).decode(\"utf-8\")   # 对读取的文件进行base64编码\n",
    "data = {\n",
    "    \"format\":\"pcm\",   # 音频格式\n",
    "    \"rate\":16000,   # 采样率，固定值16000\n",
    "    \"dev_pid\":1536,   # 普通话\n",
    "    \"channel\":1,   # 频道，固定值1\n",
    "    \"token\":\"24.ce6277bec668519f75ac9a24ea705730.2592000.1675310589.282335-24690625\",   # 重要，鉴权认证Access Token，需要自己来申请\n",
    "    \"cuid\":\"DC-85-DE-F9-08-59\",   # 随便一个值就好了，官网推荐是个人电脑的MAC地址\n",
    "    \"len\":size,   # 语音文件的尺寸\n",
    "    \"speech\":text,   # base64编码的语音文件\n",
    "}\n",
    "\n",
    "\n",
    "data = urllib.parse.urlencode(json.dumps(data)).encode(\"utf-8\")\n",
    "# req = urllib.request.Request(apiUrl)\n",
    "# with urllib.request.urlopen(req,data=data) as f:\n",
    "#     resp = f.read()\n",
    "#     print(resp)"
   ]
  },
  {
   "attachments": {},
   "cell_type": "markdown",
   "metadata": {},
   "source": [
    "#### sdk方法调用"
   ]
  },
  {
   "cell_type": "code",
   "execution_count": 13,
   "metadata": {},
   "outputs": [
    {
     "name": "stdout",
     "output_type": "stream",
     "text": [
      "3.232221841812134\n",
      "讯飞开放平台。\n"
     ]
    }
   ],
   "source": [
    "from aip import AipSpeech\n",
    "import time\n",
    "\"\"\" 你的 APPID AK SK \"\"\"\n",
    "APP_ID = '24690625'\n",
    "API_KEY = '4wvprFyDikit7dGDmr3qMVW1'\n",
    "SECRET_KEY = 'xGZ3AyezrZpncTYnTaXdoONVWfvKB3op'\n",
    "\n",
    "client = AipSpeech(APP_ID, API_KEY, SECRET_KEY)\n",
    "\n",
    "def get_file_content(filePath):\n",
    "    with open(filePath, 'rb') as fp:\n",
    "        return fp.read()\n",
    "\n",
    "# 识别本地文件\n",
    "start = time.time()\n",
    "result = client.asr(get_file_content('intent_repeat.wav'), 'pcm', 16000, {\n",
    "    'dev_pid': 1537,\n",
    "})\n",
    "end = time.time()\n",
    "print(end-start)\n",
    "print(result.get('result')[0])\n"
   ]
  },
  {
   "cell_type": "code",
   "execution_count": 18,
   "metadata": {},
   "outputs": [
    {
     "name": "stdout",
     "output_type": "stream",
     "text": [
      "0.8742308616638184\n",
      "讯飞开放平台。\n"
     ]
    }
   ],
   "source": [
    "start = time.time()\n",
    "result = client.asr(get_file_content('intent_repeat.wav'), 'pcm', 16000, {\n",
    "    'dev_pid': 1537,\n",
    "})\n",
    "end = time.time()\n",
    "print(end-start)\n",
    "print(result.get('result')[0])"
   ]
  }
 ],
 "metadata": {
  "kernelspec": {
   "display_name": "Python 3",
   "language": "python",
   "name": "python3"
  },
  "language_info": {
   "codemirror_mode": {
    "name": "ipython",
    "version": 3
   },
   "file_extension": ".py",
   "mimetype": "text/x-python",
   "name": "python",
   "nbconvert_exporter": "python",
   "pygments_lexer": "ipython3",
   "version": "3.7.9 (tags/v3.7.9:13c94747c7, Aug 17 2020, 18:58:18) [MSC v.1900 64 bit (AMD64)]"
  },
  "orig_nbformat": 4,
  "vscode": {
   "interpreter": {
    "hash": "a23257344542c70b70a498512f46db94a3a7f44d371a6893c689768adca66338"
   }
  }
 },
 "nbformat": 4,
 "nbformat_minor": 2
}
