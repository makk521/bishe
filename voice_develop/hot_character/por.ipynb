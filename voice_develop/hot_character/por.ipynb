{
 "cells": [
  {
   "cell_type": "code",
   "execution_count": 17,
   "metadata": {},
   "outputs": [],
   "source": [
    "import pvporcupine\n",
    "access_key = \"c7E0vdPeiP6qg4pXo/AdHrMq9a6UFx6qczLYex7g0qKwmFkJm0UEmQ==\" # AccessKey obtained from Picovoice Console (https://console.picovoice.ai/)\n",
    "handle = pvporcupine.create(access_key=access_key, keywords=['picovoice'])"
   ]
  },
  {
   "cell_type": "code",
   "execution_count": 9,
   "metadata": {},
   "outputs": [
    {
     "name": "stdout",
     "output_type": "stream",
     "text": [
      "{'terminator', 'computer', 'grapefruit', 'bumblebee', 'alexa', 'hey siri', 'picovoice', 'blueberry', 'americano', 'jarvis', 'hey google', 'ok google', 'hey barista', 'porcupine', 'pico clock', 'grasshopper'}\n"
     ]
    }
   ],
   "source": [
    "# 输出所有的系统自带关键词\n",
    "import pvporcupine\n",
    "print(pvporcupine.KEYWORDS)"
   ]
  },
  {
   "cell_type": "code",
   "execution_count": 8,
   "metadata": {},
   "outputs": [
    {
     "ename": "PorcupineInvalidArgumentError",
     "evalue": "",
     "output_type": "error",
     "traceback": [
      "\u001b[1;31m---------------------------------------------------------------------------\u001b[0m",
      "\u001b[1;31mPorcupineInvalidArgumentError\u001b[0m             Traceback (most recent call last)",
      "\u001b[1;32m~\\AppData\\Local\\Temp/ipykernel_14028/1711983690.py\u001b[0m in \u001b[0;36m<module>\u001b[1;34m\u001b[0m\n\u001b[0;32m      5\u001b[0m \u001b[0maccess_key\u001b[0m \u001b[1;33m=\u001b[0m \u001b[1;34m\"c7E0vdPeiP6qg4pXo/AdHrMq9a6UFx6qczLYex7g0qKwmFkJm0UEmQ==\"\u001b[0m\u001b[1;33m\u001b[0m\u001b[1;33m\u001b[0m\u001b[0m\n\u001b[0;32m      6\u001b[0m \u001b[1;31m# porcupine = pvporcupine.create( access_key=access_key,keywords=['porcupine', 'ok google', \"picovoice\", \"blueberry\"])\u001b[0m\u001b[1;33m\u001b[0m\u001b[1;33m\u001b[0m\u001b[1;33m\u001b[0m\u001b[0m\n\u001b[1;32m----> 7\u001b[1;33m \u001b[0mporcupine\u001b[0m \u001b[1;33m=\u001b[0m \u001b[0mpvporcupine\u001b[0m\u001b[1;33m.\u001b[0m\u001b[0mcreate\u001b[0m\u001b[1;33m(\u001b[0m\u001b[0maccess_key\u001b[0m\u001b[1;33m=\u001b[0m\u001b[0maccess_key\u001b[0m\u001b[1;33m,\u001b[0m\u001b[0mkeyword_paths\u001b[0m\u001b[1;33m=\u001b[0m\u001b[1;33m[\u001b[0m\u001b[1;34m'C:/Users/ASUS/Documents/GitHub/bishe/voice_develop/all_devlop/graduation_en_raspberry-pi_v2_1_0.ppn'\u001b[0m\u001b[1;33m]\u001b[0m\u001b[1;33m,\u001b[0m\u001b[0msensitivities\u001b[0m\u001b[1;33m=\u001b[0m\u001b[1;33m[\u001b[0m\u001b[1;36m0.7\u001b[0m\u001b[1;33m]\u001b[0m\u001b[1;33m)\u001b[0m\u001b[1;33m\u001b[0m\u001b[1;33m\u001b[0m\u001b[0m\n\u001b[0m\u001b[0;32m      8\u001b[0m \u001b[0mpa\u001b[0m \u001b[1;33m=\u001b[0m \u001b[0mpyaudio\u001b[0m\u001b[1;33m.\u001b[0m\u001b[0mPyAudio\u001b[0m\u001b[1;33m(\u001b[0m\u001b[1;33m)\u001b[0m\u001b[1;33m\u001b[0m\u001b[1;33m\u001b[0m\u001b[0m\n\u001b[0;32m      9\u001b[0m audio_stream = pa.open(\n",
      "\u001b[1;32mc:\\Users\\ASUS\\AppData\\Local\\Programs\\Python\\Python37\\lib\\site-packages\\pvporcupine\\__init__.py\u001b[0m in \u001b[0;36mcreate\u001b[1;34m(access_key, library_path, model_path, keyword_paths, keywords, sensitivities)\u001b[0m\n\u001b[0;32m     80\u001b[0m         \u001b[0mmodel_path\u001b[0m\u001b[1;33m=\u001b[0m\u001b[0mmodel_path\u001b[0m\u001b[1;33m,\u001b[0m\u001b[1;33m\u001b[0m\u001b[1;33m\u001b[0m\u001b[0m\n\u001b[0;32m     81\u001b[0m         \u001b[0mkeyword_paths\u001b[0m\u001b[1;33m=\u001b[0m\u001b[0mkeyword_paths\u001b[0m\u001b[1;33m,\u001b[0m\u001b[1;33m\u001b[0m\u001b[1;33m\u001b[0m\u001b[0m\n\u001b[1;32m---> 82\u001b[1;33m         sensitivities=sensitivities)\n\u001b[0m",
      "\u001b[1;32mc:\\Users\\ASUS\\AppData\\Local\\Programs\\Python\\Python37\\lib\\site-packages\\pvporcupine\\porcupine.py\u001b[0m in \u001b[0;36m__init__\u001b[1;34m(self, access_key, library_path, model_path, keyword_paths, sensitivities)\u001b[0m\n\u001b[0;32m    156\u001b[0m             byref(self._handle))\n\u001b[0;32m    157\u001b[0m         \u001b[1;32mif\u001b[0m \u001b[0mstatus\u001b[0m \u001b[1;32mis\u001b[0m \u001b[1;32mnot\u001b[0m \u001b[0mself\u001b[0m\u001b[1;33m.\u001b[0m\u001b[0mPicovoiceStatuses\u001b[0m\u001b[1;33m.\u001b[0m\u001b[0mSUCCESS\u001b[0m\u001b[1;33m:\u001b[0m\u001b[1;33m\u001b[0m\u001b[1;33m\u001b[0m\u001b[0m\n\u001b[1;32m--> 158\u001b[1;33m             \u001b[1;32mraise\u001b[0m \u001b[0mself\u001b[0m\u001b[1;33m.\u001b[0m\u001b[0m_PICOVOICE_STATUS_TO_EXCEPTION\u001b[0m\u001b[1;33m[\u001b[0m\u001b[0mstatus\u001b[0m\u001b[1;33m]\u001b[0m\u001b[1;33m(\u001b[0m\u001b[1;33m)\u001b[0m\u001b[1;33m\u001b[0m\u001b[1;33m\u001b[0m\u001b[0m\n\u001b[0m\u001b[0;32m    159\u001b[0m \u001b[1;33m\u001b[0m\u001b[0m\n\u001b[0;32m    160\u001b[0m         \u001b[0mself\u001b[0m\u001b[1;33m.\u001b[0m\u001b[0m_delete_func\u001b[0m \u001b[1;33m=\u001b[0m \u001b[0mlibrary\u001b[0m\u001b[1;33m.\u001b[0m\u001b[0mpv_porcupine_delete\u001b[0m\u001b[1;33m\u001b[0m\u001b[1;33m\u001b[0m\u001b[0m\n",
      "\u001b[1;31mPorcupineInvalidArgumentError\u001b[0m: "
     ]
    }
   ],
   "source": [
    "# 识别到关键字后输出操作（后续开发思路）\n",
    "import struct\n",
    "import pyaudio\n",
    "import pvporcupine\n",
    "access_key = \"c7E0vdPeiP6qg4pXo/AdHrMq9a6UFx6qczLYex7g0qKwmFkJm0UEmQ==\"\n",
    "porcupine = pvporcupine.create( access_key=access_key,keywords=['porcupine', 'ok google', \"picovoice\", \"blueberry\"])\n",
    "# porcupine = pvporcupine.create(access_key=access_key,keyword_paths=['C:/Users/ASUS/Documents/GitHub/bishe/voice_develop/all_devlop/graduation_en_raspberry-pi_v2_1_0.ppn'],sensitivities=[0.7])\n",
    "pa = pyaudio.PyAudio()\n",
    "audio_stream = pa.open(\n",
    "                    rate=porcupine.sample_rate,\n",
    "                    channels=1,\n",
    "                    format=pyaudio.paInt16,\n",
    "                    input=True,\n",
    "                    frames_per_buffer=porcupine.frame_length)\n",
    "#def get_next_audio_frame():\n",
    "#  return \n",
    "while True:\n",
    "    pcm = audio_stream.read(porcupine.frame_length)\n",
    "    pcm = struct.unpack_from(\"h\" * porcupine.frame_length, pcm)\n",
    "    keyword_index = porcupine.process(pcm)\n",
    "    if keyword_index >= 0:\n",
    "        # Insert detection event callback here\n",
    "        print(\"sdfsa\")"
   ]
  }
 ],
 "metadata": {
  "kernelspec": {
   "display_name": "Python 3",
   "language": "python",
   "name": "python3"
  },
  "language_info": {
   "codemirror_mode": {
    "name": "ipython",
    "version": 3
   },
   "file_extension": ".py",
   "mimetype": "text/x-python",
   "name": "python",
   "nbconvert_exporter": "python",
   "pygments_lexer": "ipython3",
   "version": "3.7.9"
  },
  "orig_nbformat": 4,
  "vscode": {
   "interpreter": {
    "hash": "a23257344542c70b70a498512f46db94a3a7f44d371a6893c689768adca66338"
   }
  }
 },
 "nbformat": 4,
 "nbformat_minor": 2
}
