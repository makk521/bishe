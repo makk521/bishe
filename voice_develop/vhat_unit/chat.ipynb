{
 "cells": [
  {
   "cell_type": "code",
   "execution_count": 5,
   "metadata": {},
   "outputs": [
    {
     "name": "stdout",
     "output_type": "stream",
     "text": [
      "访问一次网页，耗时：1.4734389781951904\n",
      "枣庄今天晴转多云气温零下5到零上7度~\n"
     ]
    }
   ],
   "source": [
    "# encoding:utf-8\n",
    "import requests\n",
    "import json\n",
    "import urllib\n",
    "import urllib.request\n",
    "import time\n",
    "\n",
    "url = 'https://aip.baidubce.com/rpc/2.0/unit/service/v3/chat?access_token=24.7a069087f696cb7d853f3ee33a4efcbf.2592000.1676606399.282335-29476996' # token id\n",
    "post_data = \"{\\\"version\\\":\\\"3.0\\\",\\\"service_id\\\":\\\"S80122\\\",\\\"session_id\\\":\\\"\\\",\\\"log_id\\\":\\\"1114749\\\",\\\"request\\\":{\\\"terminal_id\\\":\\\"88888\\\",\\\"query\\\":\\\"今天枣庄天气怎么样\\\"}} \"\n",
    "headers = {'content-type': 'application/x-www-form-urlencoded'}\n",
    "start = time.time()\n",
    "response = requests.post(url, data=post_data.encode('utf-8'), headers=headers)\n",
    "end = time.time()\n",
    "print(f'访问一次网页，耗时：{end - start}')\n",
    "\n",
    "text1 = json.loads(response.text)\n",
    "print(text1['result']['responses'][0]['actions'][0]['say'])\n"
   ]
  },
  {
   "cell_type": "code",
   "execution_count": 8,
   "metadata": {},
   "outputs": [
    {
     "name": "stdout",
     "output_type": "stream",
     "text": [
      "访问一百次网页，耗时：1.1015300750732422\n",
      "<Response [200]>\n"
     ]
    }
   ],
   "source": [
    "import requests\n",
    "import time\n",
    "\n",
    "url = 'https://aip.baidubce.com/rpc/2.0/unit/service/v3/chat?access_token=24.7a069087f696cb7d853f3ee33a4efcbf.2592000.1676606399.282335-29476996' # token id\n",
    "post_data = \"{\\\"version\\\":\\\"3.0\\\",\\\"service_id\\\":\\\"S80122\\\",\\\"session_id\\\":\\\"\\\",\\\"log_id\\\":\\\"1114749\\\",\\\"request\\\":{\\\"terminal_id\\\":\\\"88888\\\",\\\"query\\\":\\\"今天上海天气怎么样\\\"}} \"\n",
    "headers = {'content-type': 'application/x-www-form-urlencoded'}\n",
    "\n",
    "start = time.time()\n",
    "session = requests.Session()\n",
    "resp = session.post(url, data=post_data.encode('utf-8'), headers=headers)\n",
    "end = time.time()\n",
    "print(f'访问一百次网页，耗时：{end - start}')\n",
    "print(resp)"
   ]
  },
  {
   "cell_type": "code",
   "execution_count": 7,
   "metadata": {},
   "outputs": [
    {
     "name": "stdout",
     "output_type": "stream",
     "text": [
      "{\"version\":\"3.0\",\"service_id\":\"S80122\",\"session_id\":\"\",\"log_id\":\"1114749\",\"request\":{\"terminal_id\":\"88888\",\"query\":\"今天上海天气怎么样\"}} \n"
     ]
    }
   ],
   "source": [
    "print(\"{\\\"version\\\":\\\"3.0\\\",\\\"service_id\\\":\\\"S80122\\\",\\\"session_id\\\":\\\"\\\",\\\"log_id\\\":\\\"1114749\\\",\\\"request\\\":{\\\"terminal_id\\\":\\\"88888\\\",\\\"query\\\":\\\"今天上海天气怎么样\\\"}} \")"
   ]
  },
  {
   "cell_type": "code",
   "execution_count": 6,
   "metadata": {},
   "outputs": [],
   "source": [
    "import requests\n",
    "\n",
    "def get_token():\n",
    "    server = \"https://aip.baidubce.com/oauth/2.0/token?\"\n",
    "    grant_type = \"client_credentials\"\n",
    "\n",
    "    client_id = 'ZyuGtbgEwKzEgO9CGGRE7zuR'\n",
    "    client_secret = 'hNXzHtsihZmRkt9j0GCi9AQj76v3lE8z'\n",
    "\n",
    "    url = \"%sgrant_type=%s&client_id=%s&client_secret=%s\" % (\n",
    "        server, grant_type, client_id, client_secret)\n",
    " \n",
    "    res = requests.post(url)\n",
    "    access_token = json.loads(res.text)[\"access_token\"]\n",
    "    return access_token"
   ]
  }
 ],
 "metadata": {
  "kernelspec": {
   "display_name": "Python 3",
   "language": "python",
   "name": "python3"
  },
  "language_info": {
   "codemirror_mode": {
    "name": "ipython",
    "version": 3
   },
   "file_extension": ".py",
   "mimetype": "text/x-python",
   "name": "python",
   "nbconvert_exporter": "python",
   "pygments_lexer": "ipython3",
   "version": "3.7.9 (tags/v3.7.9:13c94747c7, Aug 17 2020, 18:58:18) [MSC v.1900 64 bit (AMD64)]"
  },
  "orig_nbformat": 4,
  "vscode": {
   "interpreter": {
    "hash": "a23257344542c70b70a498512f46db94a3a7f44d371a6893c689768adca66338"
   }
  }
 },
 "nbformat": 4,
 "nbformat_minor": 2
}
