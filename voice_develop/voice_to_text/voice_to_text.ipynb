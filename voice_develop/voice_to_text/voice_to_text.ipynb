{
 "cells": [
  {
   "cell_type": "code",
   "execution_count": 3,
   "metadata": {},
   "outputs": [
    {
     "name": "stdout",
     "output_type": "stream",
     "text": [
      "24.ce6277bec668519f75ac9a24ea705730.2592000.1675310589.282335-24690625\n"
     ]
    }
   ],
   "source": [
    "import requests\n",
    "\n",
    "apiUrl = 'https://openapi.baidu.com/oauth/2.0/token'\n",
    "data = {\n",
    "    'grant_type':'client_credentials',   # 固定值\n",
    "    'client_id':'4wvprFyDikit7dGDmr3qMVW1',   # API Key\n",
    "    'client_secret':'xGZ3AyezrZpncTYnTaXdoONVWfvKB3op',   # Secret Key\n",
    "}\n",
    "try:\n",
    "    r = requests.get(apiUrl, params = data).json()\n",
    "    print(r.get(\"access_token\"))\n",
    "except Exception as e:\n",
    "    print(e)"
   ]
  },
  {
   "cell_type": "code",
   "execution_count": 10,
   "metadata": {},
   "outputs": [
    {
     "name": "stdout",
     "output_type": "stream",
     "text": [
      "{'corpus_no': '7184283082482789740', 'err_msg': 'success.', 'err_no': 0, 'result': ['讯飞开放平台'], 'sn': '21680978111672721254'}\n",
      "讯飞开放平台\n"
     ]
    }
   ],
   "source": [
    "import requests\n",
    "import os\n",
    "import base64\n",
    "import json\n",
    "\n",
    "apiUrl='http://vop.baidu.com/server_api'\n",
    "filename = \"intent_repeat.wav\"   # 这是我下载到本地的音频样例文件名\n",
    "size = os.path.getsize(filename)   # 获取本地语音文件尺寸\n",
    "file1 = open(filename, \"rb\").read()   # 读取本地语音文件   \n",
    "text = base64.b64encode(file1).decode(\"utf-8\")   # 对读取的文件进行base64编码\n",
    "data = {\n",
    "    \"format\":\"pcm\",   # 音频格式\n",
    "    \"rate\":16000,   # 采样率，固定值16000\n",
    "    \"dev_pid\":1536,   # 普通话\n",
    "    \"channel\":1,   # 频道，固定值1\n",
    "    \"token\":\"24.ce6277bec668519f75ac9a24ea705730.2592000.1675310589.282335-24690625\",   # 重要，鉴权认证Access Token，需要自己来申请\n",
    "    \"cuid\":\"DC-85-DE-F9-08-59\",   # 随便一个值就好了，官网推荐是个人电脑的MAC地址\n",
    "    \"len\":size,   # 语音文件的尺寸\n",
    "    \"speech\":text,   # base64编码的语音文件\n",
    "}\n",
    "try:\n",
    "    r = requests.post(apiUrl, data = json.dumps(data)).json()\n",
    "    print(r)\n",
    "    print(r.get(\"result\")[0])\n",
    "except Exception as e:\n",
    "    print(e)"
   ]
  },
  {
   "attachments": {},
   "cell_type": "markdown",
   "metadata": {},
   "source": [
    "#### sdk方法调用"
   ]
  },
  {
   "cell_type": "code",
   "execution_count": 12,
   "metadata": {},
   "outputs": [
    {
     "name": "stderr",
     "output_type": "stream",
     "text": [
      "c:\\Users\\ASUS\\AppData\\Local\\Programs\\Python\\Python37\\lib\\site-packages\\urllib3\\connectionpool.py:1020: InsecureRequestWarning: Unverified HTTPS request is being made to host 'aip.baidubce.com'. Adding certificate verification is strongly advised. See: https://urllib3.readthedocs.io/en/1.26.x/advanced-usage.html#ssl-warnings\n",
      "  InsecureRequestWarning,\n"
     ]
    },
    {
     "name": "stdout",
     "output_type": "stream",
     "text": [
      "讯飞开放平台。\n"
     ]
    }
   ],
   "source": [
    "from aip import AipSpeech\n",
    "\n",
    "\"\"\" 你的 APPID AK SK \"\"\"\n",
    "APP_ID = '24690625'\n",
    "API_KEY = '4wvprFyDikit7dGDmr3qMVW1'\n",
    "SECRET_KEY = 'xGZ3AyezrZpncTYnTaXdoONVWfvKB3op'\n",
    "\n",
    "client = AipSpeech(APP_ID, API_KEY, SECRET_KEY)\n",
    "\n",
    "def get_file_content(filePath):\n",
    "    with open(filePath, 'rb') as fp:\n",
    "        return fp.read()\n",
    "\n",
    "# 识别本地文件\n",
    "result = client.asr(get_file_content('intent_repeat.wav'), 'pcm', 16000, {\n",
    "    'dev_pid': 1537,\n",
    "})\n",
    "print(result.get('result')[0])\n"
   ]
  }
 ],
 "metadata": {
  "kernelspec": {
   "display_name": "Python 3",
   "language": "python",
   "name": "python3"
  },
  "language_info": {
   "codemirror_mode": {
    "name": "ipython",
    "version": 3
   },
   "file_extension": ".py",
   "mimetype": "text/x-python",
   "name": "python",
   "nbconvert_exporter": "python",
   "pygments_lexer": "ipython3",
   "version": "3.7.9 (tags/v3.7.9:13c94747c7, Aug 17 2020, 18:58:18) [MSC v.1900 64 bit (AMD64)]"
  },
  "orig_nbformat": 4,
  "vscode": {
   "interpreter": {
    "hash": "a23257344542c70b70a498512f46db94a3a7f44d371a6893c689768adca66338"
   }
  }
 },
 "nbformat": 4,
 "nbformat_minor": 2
}
