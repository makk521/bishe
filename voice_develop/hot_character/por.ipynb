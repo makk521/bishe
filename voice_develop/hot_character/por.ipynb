{
 "cells": [
  {
   "cell_type": "code",
   "execution_count": 17,
   "metadata": {},
   "outputs": [],
   "source": [
    "import pvporcupine\n",
    "access_key = \"c7E0vdPeiP6qg4pXo/AdHrMq9a6UFx6qczLYex7g0qKwmFkJm0UEmQ==\" # AccessKey obtained from Picovoice Console (https://console.picovoice.ai/)\n",
    "handle = pvporcupine.create(access_key=access_key, keywords=['picovoice'])"
   ]
  },
  {
   "cell_type": "code",
   "execution_count": 9,
   "metadata": {},
   "outputs": [
    {
     "name": "stdout",
     "output_type": "stream",
     "text": [
      "{'terminator', 'computer', 'grapefruit', 'bumblebee', 'alexa', 'hey siri', 'picovoice', 'blueberry', 'americano', 'jarvis', 'hey google', 'ok google', 'hey barista', 'porcupine', 'pico clock', 'grasshopper'}\n"
     ]
    }
   ],
   "source": [
    "# 输出所有的系统自带关键词\n",
    "import pvporcupine\n",
    "print(pvporcupine.KEYWORDS)"
   ]
  },
  {
   "cell_type": "code",
   "execution_count": 16,
   "metadata": {},
   "outputs": [
    {
     "name": "stdout",
     "output_type": "stream",
     "text": [
      "sdfsa\n"
     ]
    },
    {
     "ename": "KeyboardInterrupt",
     "evalue": "",
     "output_type": "error",
     "traceback": [
      "\u001b[1;31m---------------------------------------------------------------------------\u001b[0m",
      "\u001b[1;31mKeyboardInterrupt\u001b[0m                         Traceback (most recent call last)",
      "\u001b[1;32m~\\AppData\\Local\\Temp/ipykernel_17964/2676372362.py\u001b[0m in \u001b[0;36m<module>\u001b[1;34m\u001b[0m\n\u001b[0;32m     15\u001b[0m \u001b[1;31m#  return\u001b[0m\u001b[1;33m\u001b[0m\u001b[1;33m\u001b[0m\u001b[1;33m\u001b[0m\u001b[0m\n\u001b[0;32m     16\u001b[0m \u001b[1;32mwhile\u001b[0m \u001b[1;32mTrue\u001b[0m\u001b[1;33m:\u001b[0m\u001b[1;33m\u001b[0m\u001b[1;33m\u001b[0m\u001b[0m\n\u001b[1;32m---> 17\u001b[1;33m     \u001b[0mpcm\u001b[0m \u001b[1;33m=\u001b[0m \u001b[0maudio_stream\u001b[0m\u001b[1;33m.\u001b[0m\u001b[0mread\u001b[0m\u001b[1;33m(\u001b[0m\u001b[0mporcupine\u001b[0m\u001b[1;33m.\u001b[0m\u001b[0mframe_length\u001b[0m\u001b[1;33m)\u001b[0m\u001b[1;33m\u001b[0m\u001b[1;33m\u001b[0m\u001b[0m\n\u001b[0m\u001b[0;32m     18\u001b[0m     \u001b[0mpcm\u001b[0m \u001b[1;33m=\u001b[0m \u001b[0mstruct\u001b[0m\u001b[1;33m.\u001b[0m\u001b[0munpack_from\u001b[0m\u001b[1;33m(\u001b[0m\u001b[1;34m\"h\"\u001b[0m \u001b[1;33m*\u001b[0m \u001b[0mporcupine\u001b[0m\u001b[1;33m.\u001b[0m\u001b[0mframe_length\u001b[0m\u001b[1;33m,\u001b[0m \u001b[0mpcm\u001b[0m\u001b[1;33m)\u001b[0m\u001b[1;33m\u001b[0m\u001b[1;33m\u001b[0m\u001b[0m\n\u001b[0;32m     19\u001b[0m     \u001b[0mkeyword_index\u001b[0m \u001b[1;33m=\u001b[0m \u001b[0mporcupine\u001b[0m\u001b[1;33m.\u001b[0m\u001b[0mprocess\u001b[0m\u001b[1;33m(\u001b[0m\u001b[0mpcm\u001b[0m\u001b[1;33m)\u001b[0m\u001b[1;33m\u001b[0m\u001b[1;33m\u001b[0m\u001b[0m\n",
      "\u001b[1;32mc:\\Users\\ASUS\\AppData\\Local\\Programs\\Python\\Python37\\lib\\site-packages\\pyaudio\\__init__.py\u001b[0m in \u001b[0;36mread\u001b[1;34m(self, num_frames, exception_on_overflow)\u001b[0m\n\u001b[0;32m    569\u001b[0m                               paCanNotReadFromAnOutputOnlyStream)\n\u001b[0;32m    570\u001b[0m             return pa.read_stream(self._stream, num_frames,\n\u001b[1;32m--> 571\u001b[1;33m                                   exception_on_overflow)\n\u001b[0m\u001b[0;32m    572\u001b[0m \u001b[1;33m\u001b[0m\u001b[0m\n\u001b[0;32m    573\u001b[0m         \u001b[1;32mdef\u001b[0m \u001b[0mget_read_available\u001b[0m\u001b[1;33m(\u001b[0m\u001b[0mself\u001b[0m\u001b[1;33m)\u001b[0m\u001b[1;33m:\u001b[0m\u001b[1;33m\u001b[0m\u001b[1;33m\u001b[0m\u001b[0m\n",
      "\u001b[1;31mKeyboardInterrupt\u001b[0m: "
     ]
    }
   ],
   "source": [
    "# 识别到关键字后输出操作（后续开发思路）\n",
    "import struct\n",
    "import pyaudio\n",
    "import pvporcupine\n",
    "access_key = \"c7E0vdPeiP6qg4pXo/AdHrMq9a6UFx6qczLYex7g0qKwmFkJm0UEmQ==\"\n",
    "porcupine = pvporcupine.create( access_key=access_key,keywords=['porcupine', 'ok google', \"picovoice\", \"blueberry\"])\n",
    "# porcupine = pvporcupine.create(keyword_paths=['samel__en_windows_2021-10-26-utc_v1_9_0.ppn'])\n",
    "pa = pyaudio.PyAudio()\n",
    "audio_stream = pa.open(\n",
    "                    rate=porcupine.sample_rate,\n",
    "                    channels=1,\n",
    "                    format=pyaudio.paInt16,\n",
    "                    input=True,\n",
    "                    frames_per_buffer=porcupine.frame_length)\n",
    "#def get_next_audio_frame():\n",
    "#  return \n",
    "while True:\n",
    "    pcm = audio_stream.read(porcupine.frame_length)\n",
    "    pcm = struct.unpack_from(\"h\" * porcupine.frame_length, pcm)\n",
    "    keyword_index = porcupine.process(pcm)\n",
    "    if keyword_index >= 0:\n",
    "        # Insert detection event callback here\n",
    "        print(\"sdfsa\")"
   ]
  }
 ],
 "metadata": {
  "kernelspec": {
   "display_name": "Python 3",
   "language": "python",
   "name": "python3"
  },
  "language_info": {
   "codemirror_mode": {
    "name": "ipython",
    "version": 3
   },
   "file_extension": ".py",
   "mimetype": "text/x-python",
   "name": "python",
   "nbconvert_exporter": "python",
   "pygments_lexer": "ipython3",
   "version": "3.7.9"
  },
  "orig_nbformat": 4,
  "vscode": {
   "interpreter": {
    "hash": "a23257344542c70b70a498512f46db94a3a7f44d371a6893c689768adca66338"
   }
  }
 },
 "nbformat": 4,
 "nbformat_minor": 2
}
