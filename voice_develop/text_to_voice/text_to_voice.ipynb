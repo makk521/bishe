{
 "cells": [
  {
   "cell_type": "code",
   "execution_count": null,
   "metadata": {},
   "outputs": [],
   "source": [
    "def get_token():\n",
    "    API_Key = \"4wvprFyDikit7dGDmr3qMVW1\"            # 官网获取的API_Key\n",
    "    Secret_Key = \"xGZ3AyezrZpncTYnTaXdoONVWfvKB3op\" # 为官网获取的Secret_Key\n",
    "    #拼接得到Url\n",
    "    Url = \"https://aip.baidubce.com/oauth/2.0/token?grant_type=client_credentials&client_id=\"+API_Key+\"&client_secret=\"+Secret_Key\n",
    "    try:\n",
    "        resp = request.urlopen(Url)\n",
    "        result = json.loads(resp.read().decode('utf-8'))\n",
    "        # 打印access_token\n",
    "        print(\"access_token:\",result['access_token'])\n",
    "        return result['access_token']\n",
    "    except request.URLError as err:\n",
    "        print('token http response http code : ' + str(err.code))\n"
   ]
  },
  {
   "cell_type": "code",
   "execution_count": 4,
   "metadata": {},
   "outputs": [
    {
     "name": "stdout",
     "output_type": "stream",
     "text": [
      "tts success\n"
     ]
    }
   ],
   "source": [
    "import json\n",
    "from urllib import request,parse\n",
    "\n",
    "def text_to_voice(text):\n",
    "    # 1、获取 access_token\n",
    "    token = \"24.ce6277bec668519f75ac9a24ea705730.2592000.1675310589.282335-24690625\"\n",
    "    # 2、将需要合成的文字做2次urlencode编码\n",
    "    TEXT = text\n",
    "    tex = parse.quote_plus(TEXT)  # 两次urlencode\n",
    "    # 3、设置文本以及其他参数\n",
    "    params = {'tok': token,     # 开放平台获取到的开发者access_token\n",
    "              'tex': tex,       # 合成的文本，使用UTF-8编码。小于2048个中文字或者英文数字\n",
    "              'per': 4,         # 发音人选择, 基础音库：0为度小美，1为度小宇，3为度逍遥，4为度丫丫，\n",
    "              'spd': 4,         # 语速，取值0-15，默认为5中语速\n",
    "              'pit': 5,         # 音调，取值0-15，默认为5中语调\n",
    "              'vol': 5,         # 音量，取值0-15，默认为5中音量\n",
    "              'aue': 6,         # 下载的文件格式, 3为mp3格式(默认); 4为pcm-16k; 5为pcm-8k; 6为wav（内容同pcm-16k）\n",
    "              'cuid': \"7749py\", # 用户唯一标识\n",
    "              'lan': 'zh', 'ctp': 1}  # lan ctp 固定参数\n",
    "    # 4、将参数编码，然后放入body，生成Request对象\n",
    "    data = parse.urlencode(params)\n",
    "    req = request.Request(\"http://tsn.baidu.com/text2audio\", data.encode('utf-8'))\n",
    "    # 5、发送post请求\n",
    "    f = request.urlopen(req)\n",
    "    result_str = f.read()\n",
    "    # 6、将返回的header信息取出并生成一个字典\n",
    "    headers = dict((name.lower(), value) for name, value in f.headers.items())\n",
    "    # 7、如果返回的header里有”Content-Type: audio/wav“信息，则合成成功\n",
    "    if \"audio/wav\" in headers['content-type'] :\n",
    "        print(\"tts success\")\n",
    "        # 合成成功即将数据存入文件\n",
    "        with open(\"result.wav\", 'wb') as of:\n",
    "            of.write(result_str)\n",
    "\n",
    "if __name__ == '__main__':\n",
    "    text_to_voice(\"你好，百度语音合成\")\n"
   ]
  },
  {
   "attachments": {},
   "cell_type": "markdown",
   "metadata": {},
   "source": [
    "#### sdk开发"
   ]
  },
  {
   "cell_type": "code",
   "execution_count": 6,
   "metadata": {},
   "outputs": [],
   "source": [
    "from aip import AipSpeech\n",
    "\n",
    "\"\"\" 你的 APPID AK SK \"\"\"\n",
    "APP_ID = '24690625'\n",
    "API_KEY = '4wvprFyDikit7dGDmr3qMVW1'\n",
    "SECRET_KEY = 'xGZ3AyezrZpncTYnTaXdoONVWfvKB3op'\n",
    "\n",
    "client = AipSpeech(APP_ID, API_KEY, SECRET_KEY)\n",
    "\n",
    "result  = client.synthesis('你好百度', 'zh', 1, {\n",
    "    'vol': 5,\n",
    "})\n",
    "\n",
    "# 识别正确返回语音二进制 错误则返回dict 参照下面错误码\n",
    "if not isinstance(result, dict):\n",
    "    with open('audio.mp3', 'wb') as f:\n",
    "        f.write(result)"
   ]
  }
 ],
 "metadata": {
  "kernelspec": {
   "display_name": "Python 3",
   "language": "python",
   "name": "python3"
  },
  "language_info": {
   "codemirror_mode": {
    "name": "ipython",
    "version": 3
   },
   "file_extension": ".py",
   "mimetype": "text/x-python",
   "name": "python",
   "nbconvert_exporter": "python",
   "pygments_lexer": "ipython3",
   "version": "3.7.9"
  },
  "orig_nbformat": 4,
  "vscode": {
   "interpreter": {
    "hash": "a23257344542c70b70a498512f46db94a3a7f44d371a6893c689768adca66338"
   }
  }
 },
 "nbformat": 4,
 "nbformat_minor": 2
}
