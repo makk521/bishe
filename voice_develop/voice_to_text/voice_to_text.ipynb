{
 "cells": [
  {
   "cell_type": "code",
   "execution_count": 1,
   "metadata": {},
   "outputs": [
    {
     "name": "stdout",
     "output_type": "stream",
     "text": [
      "24.aa8eb8c75cad2870361332a4e3507d17.2592000.1680008876.282335-29945070\n"
     ]
    }
   ],
   "source": [
    "import requests\n",
    "\n",
    "apiUrl = 'https://openapi.baidu.com/oauth/2.0/token'\n",
    "data = {\n",
    "    'grant_type':'client_credentials',   # 固定值\n",
    "    'client_id':'YbAxwkmCjaIbA2IcdGZQSv4l',   # API Key\n",
    "    'client_secret':'lsxiemppqHKI2FZUEaXenYVHGxHHgym9',   # Secret Key\n",
    "}\n",
    "try:\n",
    "    r = requests.get(apiUrl, params = data).json()\n",
    "    print(r.get(\"access_token\"))\n",
    "except Exception as e:\n",
    "    print(e)"
   ]
  },
  {
   "cell_type": "code",
   "execution_count": 17,
   "metadata": {},
   "outputs": [
    {
     "name": "stdout",
     "output_type": "stream",
     "text": [
      "访问一次网页，耗时：2.2436983585357666\n",
      "{'corpus_no': '7192596528676685153', 'err_msg': 'success.', 'err_no': 0, 'result': ['北京科技馆'], 'sn': '337895430731674656879'}\n",
      "北京科技馆\n"
     ]
    }
   ],
   "source": [
    "import requests\n",
    "import os\n",
    "import base64\n",
    "import json\n",
    "import time\n",
    "\n",
    "apiUrl='http://vop.baidu.com/server_api'\n",
    "\n",
    "filename = \"test.wav\"   # 这是我下载到本地的音频样例文件名\n",
    "size = os.path.getsize(filename)   # 获取本地语音文件尺寸\n",
    "file1 = open(filename, \"rb\").read()   # 读取本地语音文件   \n",
    "text = base64.b64encode(file1).decode(\"utf-8\")   # 对读取的文件进行base64编码\n",
    "data = {\n",
    "    \"format\":\"pcm\",   # 音频格式\n",
    "    \"rate\":16000,   # 采样率，固定值16000\n",
    "    \"dev_pid\":1536,   # 普通话\n",
    "    \"channel\":1,   # 频道，固定值1\n",
    "    \"token\":\"24.bfe537ccc417e898656cb29c37651a2c.2592000.1677248174.282335-29945070\",   # 重要，鉴权认证Access Token，需要自己来申请\n",
    "    \"cuid\":\"DC-85-DE-F9-08-59\",   # 随便一个值就好了，官网推荐是个人电脑的MAC地址\n",
    "    \"len\":size,   # 语音文件的尺寸\n",
    "    \"speech\":text,   # base64编码的语音文件\n",
    "}\n",
    "try:\n",
    "    start = time.time()\n",
    "    r = requests.post(apiUrl, data = json.dumps(data)).json()\n",
    "    end = time.time()\n",
    "    print(f'访问一次网页，耗时：{end - start}')\n",
    "    print(r)\n",
    "    print(r.get(\"result\")[0])\n",
    "except Exception as e:\n",
    "    print(e)"
   ]
  },
  {
   "cell_type": "code",
   "execution_count": null,
   "metadata": {},
   "outputs": [],
   "source": [
    "import urllib\n",
    "import base64\n",
    "import json\n",
    "apiUrl='http://vop.baidu.com/server_api'\n",
    "filename = \"1.wav\"   # 这是我下载到本地的音频样例文件名\n",
    "size = os.path.getsize(filename)   # 获取本地语音文件尺寸\n",
    "file1 = open(filename, \"rb\").read()   # 读取本地语音文件   \n",
    "text = base64.b64encode(file1).decode(\"utf-8\")   # 对读取的文件进行base64编码\n",
    "data = {\n",
    "    \"format\":\"pcm\",   # 音频格式\n",
    "    \"rate\":16000,   # 采样率，固定值16000\n",
    "    \"dev_pid\":1536,   # 普通话\n",
    "    \"channel\":1,   # 频道，固定值1\n",
    "    \"token\":\"24.ce6277bec668519f75ac9a24ea705730.2592000.1675310589.282335-24690625\",   # 重要，鉴权认证Access Token，需要自己来申请\n",
    "    \"cuid\":\"DC-85-DE-F9-08-59\",   # 随便一个值就好了，官网推荐是个人电脑的MAC地址\n",
    "    \"len\":size,   # 语音文件的尺寸\n",
    "    \"speech\":text,   # base64编码的语音文件\n",
    "}\n",
    "\n",
    "\n",
    "data = urllib.parse.urlencode(json.dumps(data)).encode(\"utf-8\")\n",
    "# req = urllib.request.Request(apiUrl)\n",
    "# with urllib.request.urlopen(req,data=data) as f:\n",
    "#     resp = f.read()\n",
    "#     print(resp)"
   ]
  },
  {
   "attachments": {},
   "cell_type": "markdown",
   "metadata": {},
   "source": [
    "#### sdk方法调用"
   ]
  },
  {
   "cell_type": "code",
   "execution_count": 2,
   "metadata": {},
   "outputs": [
    {
     "name": "stdout",
     "output_type": "stream",
     "text": [
      "2.929640769958496\n",
      "讯飞开放平台。\n"
     ]
    }
   ],
   "source": [
    "from aip import AipSpeech\n",
    "import time\n",
    "\"\"\" 你的 APPID AK SK \"\"\"\n",
    "APP_ID = '24690625'\n",
    "API_KEY = '4wvprFyDikit7dGDmr3qMVW1'\n",
    "SECRET_KEY = 'xGZ3AyezrZpncTYnTaXdoONVWfvKB3op'\n",
    "\n",
    "client = AipSpeech(APP_ID, API_KEY, SECRET_KEY)\n",
    "\n",
    "def get_file_content(filePath):\n",
    "    with open(filePath, 'rb') as fp:\n",
    "        return fp.read()\n",
    "\n",
    "# 识别本地文件\n",
    "start = time.time()\n",
    "result = client.asr(get_file_content('intent_repeat.wav'), 'pcm', 16000, {\n",
    "    'dev_pid': 1537,\n",
    "})\n",
    "end = time.time()\n",
    "print(end-start)\n",
    "print(result.get('result')[0])\n"
   ]
  },
  {
   "cell_type": "code",
   "execution_count": 18,
   "metadata": {},
   "outputs": [
    {
     "name": "stdout",
     "output_type": "stream",
     "text": [
      "0.8742308616638184\n",
      "讯飞开放平台。\n"
     ]
    }
   ],
   "source": [
    "start = time.time()\n",
    "result = client.asr(get_file_content('intent_repeat.wav'), 'pcm', 16000, {\n",
    "    'dev_pid': 1537,\n",
    "})\n",
    "end = time.time()\n",
    "print(end-start)\n",
    "print(result.get('result')[0])"
   ]
  },
  {
   "cell_type": "code",
   "execution_count": 13,
   "metadata": {},
   "outputs": [
    {
     "name": "stdout",
     "output_type": "stream",
     "text": [
      "time:0.0\n",
      "Request time cost 2.177037\n",
      "{\"corpus_no\":\"7192604113531824213\",\"err_msg\":\"success.\",\"err_no\":0,\"result\":[\"北京科技馆。\"],\"sn\":\"549279137241674658645\"}\n",
      "\n"
     ]
    }
   ],
   "source": [
    "# 极速版\n",
    "# coding=utf-8\n",
    "\n",
    "import sys\n",
    "import json\n",
    "import base64\n",
    "import time\n",
    "\n",
    "IS_PY3 = sys.version_info.major == 3\n",
    "\n",
    "if IS_PY3:\n",
    "    from urllib.request import urlopen\n",
    "    from urllib.request import Request\n",
    "    from urllib.error import URLError\n",
    "    from urllib.parse import urlencode\n",
    "    timer = time.perf_counter\n",
    "else:\n",
    "    from urllib2 import urlopen\n",
    "    from urllib2 import Request\n",
    "    from urllib2 import URLError\n",
    "    from urllib import urlencode\n",
    "    if sys.platform == \"win32\":\n",
    "        timer = time.clock\n",
    "    else:\n",
    "        # On most other platforms the best timer is time.time()\n",
    "        timer = time.time\n",
    "\n",
    "API_KEY = 'YbAxwkmCjaIbA2IcdGZQSv4l'\n",
    "SECRET_KEY = 'lsxiemppqHKI2FZUEaXenYVHGxHHgym9'\n",
    "\n",
    "# 需要识别的文件\n",
    "AUDIO_FILE = 'test.wav'  # 只支持 pcm/wav/amr 格式，极速版额外支持m4a 格式\n",
    "# 文件格式\n",
    "FORMAT = AUDIO_FILE[-3:]  # 文件后缀只支持 pcm/wav/amr 格式，极速版额外支持m4a 格式\n",
    "\n",
    "CUID = '123456PYTHON'\n",
    "# 采样率\n",
    "RATE = 16000  # 固定值\n",
    "\n",
    "# 普通版\n",
    "\n",
    "# DEV_PID = 1537  # 1537 表示识别普通话，使用输入法模型。根据文档填写PID，选择语言及识别模型\n",
    "# ASR_URL = 'http://vop.baidu.com/server_api'\n",
    "# SCOPE = 'audio_voice_assistant_get'  # 有此scope表示有asr能力，没有请在网页里勾选，非常旧的应用可能没有\n",
    "\n",
    "#测试自训练平台需要打开以下信息， 自训练平台模型上线后，您会看见 第二步：“”获取专属模型参数pid:8001，modelid:1234”，按照这个信息获取 dev_pid=8001，lm_id=1234\n",
    "# DEV_PID = 8001 ;   \n",
    "# LM_ID = 1234 ;\n",
    "\n",
    "# 极速版 打开注释的话请填写自己申请的appkey appSecret ，并在网页中开通极速版（开通后可能会收费）\n",
    "\n",
    "DEV_PID = 80001\n",
    "ASR_URL = 'http://vop.baidu.com/pro_api'\n",
    "SCOPE = 'brain_enhanced_asr'  # 有此scope表示有极速版能力，没有请在网页里开通极速版\n",
    "\n",
    "# 忽略scope检查，非常旧的应用可能没有\n",
    "# SCOPE = False\n",
    "\n",
    "class DemoError(Exception):\n",
    "    pass\n",
    "\n",
    "\n",
    "if __name__ == '__main__':\n",
    "    token = '24.bfe537ccc417e898656cb29c37651a2c.2592000.1677248174.282335-29945070'\n",
    "\n",
    "    speech_data = []\n",
    "    with open(AUDIO_FILE, 'rb') as speech_file:\n",
    "        speech_data = speech_file.read()\n",
    "\n",
    "    length = len(speech_data)\n",
    "    if length == 0:\n",
    "        raise DemoError('file %s length read 0 bytes' % AUDIO_FILE)\n",
    "    speech = base64.b64encode(speech_data)\n",
    "    if (IS_PY3):\n",
    "        speech = str(speech, 'utf-8')\n",
    "    params = {'dev_pid': DEV_PID,\n",
    "             #\"lm_id\" : LM_ID,    #测试自训练平台开启此项\n",
    "              'format': FORMAT,\n",
    "              'rate': RATE,\n",
    "              'token': token,\n",
    "              'cuid': CUID,\n",
    "              'channel': 1,\n",
    "              'speech': speech,\n",
    "              'len': length\n",
    "              }\n",
    "    post_data = json.dumps(params, sort_keys=False)\n",
    "    # print post_data\n",
    "    start = time.time()\n",
    "    req = Request(ASR_URL, post_data.encode('utf-8'))\n",
    "    req.add_header('Content-Type', 'application/json')\n",
    "    end = time.time()\n",
    "    print('time:'+str(end-start))\n",
    "    try:\n",
    "        begin = timer()\n",
    "        f = urlopen(req)\n",
    "        result_str = f.read()\n",
    "        print (\"Request time cost %f\" % (timer() - begin))\n",
    "    except URLError as err:\n",
    "        print('asr http response http code : ' + str(err.code))\n",
    "        result_str = err.read()\n",
    "\n",
    "    if (IS_PY3):\n",
    "        result_str = str(result_str, 'utf-8')\n",
    "    print(result_str)\n",
    "    with open(\"result.txt\",\"w\") as of:\n",
    "        of.write(result_str)"
   ]
  },
  {
   "cell_type": "code",
   "execution_count": 25,
   "metadata": {},
   "outputs": [
    {
     "name": "stdout",
     "output_type": "stream",
     "text": [
      "time:0.0\n",
      "Request time cost 1.532646\n",
      "{\"corpus_no\":\"7192606449962007434\",\"err_msg\":\"success.\",\"err_no\":0,\"result\":[\"北京科技馆。\"],\"sn\":\"958512501791674659189\"}\n",
      "\n"
     ]
    }
   ],
   "source": [
    "# 极速版,精简版\n",
    "# coding=utf-8\n",
    "\n",
    "import sys\n",
    "import json\n",
    "import base64\n",
    "import time\n",
    "import os\n",
    "from urllib.request import urlopen\n",
    "from urllib.request import Request\n",
    "from urllib.error import URLError\n",
    "from urllib.parse import urlencode\n",
    "# 需要识别的文件\n",
    "AUDIO_FILE = 'test.wav'  # 只支持 pcm/wav/amr 格式，极速版额外支持m4a 格式\n",
    "# 文件格式\n",
    "FORMAT = AUDIO_FILE[-3:]  # 文件后缀只支持 pcm/wav/amr 格式，极速版额外支持m4a 格式\n",
    "\n",
    "DEV_PID = 80001\n",
    "ASR_URL = 'http://vop.baidu.com/pro_api'\n",
    "SCOPE = 'brain_enhanced_asr'  # 有此scope表示有极速版能力，没有请在网页里开通极速版\n",
    "\n",
    "if __name__ == '__main__':\n",
    "    token = '24.bfe537ccc417e898656cb29c37651a2c.2592000.1677248174.282335-29945070'\n",
    "\n",
    "    length = os.path.getsize(AUDIO_FILE)\n",
    "    file1 = open(AUDIO_FILE, \"rb\").read()   # 读取本地语音文件   \n",
    "    speech = base64.b64encode(file1).decode(\"utf-8\")\n",
    "    params = {'dev_pid': DEV_PID,\n",
    "             #\"lm_id\" : LM_ID,    #测试自训练平台开启此项\n",
    "              'format': FORMAT,\n",
    "              'rate': 16000,\n",
    "              'token': token,\n",
    "              'cuid': \"DC-85-DE-F9-08-59\",\n",
    "              'channel': 1,\n",
    "              'speech': speech,\n",
    "              'len': length\n",
    "              }\n",
    "    post_data = json.dumps(params, sort_keys=False)\n",
    "    req = Request(ASR_URL, post_data.encode('utf-8'))\n",
    "    req.add_header('Content-Type', 'application/json')\n",
    "    try:\n",
    "        begin = timer()\n",
    "        f = urlopen(req)\n",
    "        result_str = f.read()\n",
    "        print (\"Request time cost %f\" % (timer() - begin))\n",
    "    except URLError as err:\n",
    "        print('asr http response http code : ' + str(err.code))\n",
    "        result_str = err.read()\n",
    "\n",
    "    result_str = str(result_str, 'utf-8')\n",
    "    print(result_str)"
   ]
  },
  {
   "cell_type": "code",
   "execution_count": 28,
   "metadata": {},
   "outputs": [
    {
     "name": "stdout",
     "output_type": "stream",
     "text": [
      "time:0.000997781753540039\n",
      "time:0.0009999275207519531\n"
     ]
    },
    {
     "data": {
      "text/plain": [
       "True"
      ]
     },
     "execution_count": 28,
     "metadata": {},
     "output_type": "execute_result"
    }
   ],
   "source": [
    "# length时间对比\n",
    "import time    \n",
    "AUDIO_FILE = 'test.wav'\n",
    "start = time.time()\n",
    "speech_data = []\n",
    "with open(AUDIO_FILE, 'rb') as speech_file:\n",
    "    speech_data = speech_file.read()\n",
    "length = len(speech_data)\n",
    "end = time.time()\n",
    "print('time:'+str(end-start))\n",
    "\n",
    "start = time.time()\n",
    "size = os.path.getsize(AUDIO_FILE)\n",
    "end = time.time()\n",
    "print('time:'+str(end-start))\n",
    "\n",
    "length == size"
   ]
  },
  {
   "cell_type": "code",
   "execution_count": 10,
   "metadata": {},
   "outputs": [
    {
     "name": "stdout",
     "output_type": "stream",
     "text": [
      "time:0.0019979476928710938\n",
      "time:0.0\n"
     ]
    },
    {
     "data": {
      "text/plain": [
       "True"
      ]
     },
     "execution_count": 10,
     "metadata": {},
     "output_type": "execute_result"
    }
   ],
   "source": [
    "#speech时间对比\n",
    "import requests\n",
    "import os\n",
    "import base64\n",
    "import json\n",
    "import time   \n",
    "AUDIO_FILE = 'test.wav'\n",
    "\n",
    "start = time.time()\n",
    "speech_data = []\n",
    "with open(AUDIO_FILE, 'rb') as speech_file:\n",
    "    speech_data = speech_file.read()\n",
    "speech = base64.b64encode(speech_data)\n",
    "speech = str(speech, 'utf-8')\n",
    "end = time.time()\n",
    "print('time:'+str(end-start))\n",
    "\n",
    "start = time.time()\n",
    "file1 = open(AUDIO_FILE, \"rb\").read()   \n",
    "text = base64.b64encode(file1).decode(\"utf-8\") \n",
    "print('time:'+str(end-start))\n",
    "\n",
    "speech == text"
   ]
  }
 ],
 "metadata": {
  "kernelspec": {
   "display_name": "Python 3",
   "language": "python",
   "name": "python3"
  },
  "language_info": {
   "codemirror_mode": {
    "name": "ipython",
    "version": 3
   },
   "file_extension": ".py",
   "mimetype": "text/x-python",
   "name": "python",
   "nbconvert_exporter": "python",
   "pygments_lexer": "ipython3",
   "version": "3.7.9"
  },
  "orig_nbformat": 4,
  "vscode": {
   "interpreter": {
    "hash": "a23257344542c70b70a498512f46db94a3a7f44d371a6893c689768adca66338"
   }
  }
 },
 "nbformat": 4,
 "nbformat_minor": 2
}
