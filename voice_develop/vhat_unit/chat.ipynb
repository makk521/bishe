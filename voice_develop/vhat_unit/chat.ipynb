{
 "cells": [
  {
   "cell_type": "code",
   "execution_count": 6,
   "metadata": {},
   "outputs": [
    {
     "name": "stdout",
     "output_type": "stream",
     "text": [
      "你好，需要我为你做什么\n"
     ]
    }
   ],
   "source": [
    "# encoding:utf-8\n",
    "import requests\n",
    "import json\n",
    "import urllib\n",
    "import urllib.request\n",
    "\n",
    "\n",
    "def get_token():\n",
    "    server = \"https://aip.baidubce.com/oauth/2.0/token?\"\n",
    "    grant_type = \"client_credentials\"\n",
    "\n",
    "    client_id = 'ZyuGtbgEwKzEgO9CGGRE7zuR'\n",
    "    client_secret = 'hNXzHtsihZmRkt9j0GCi9AQj76v3lE8z'\n",
    "\n",
    "    url = \"%sgrant_type=%s&client_id=%s&client_secret=%s\" % (\n",
    "        server, grant_type, client_id, client_secret)\n",
    " \n",
    "    res = requests.post(url)\n",
    "    access_token = json.loads(res.text)[\"access_token\"]\n",
    "    return access_token\n",
    "\n",
    "\n",
    "access_token = get_token()\n",
    "\n",
    "url = 'https://aip.baidubce.com/rpc/2.0/unit/service/v3/chat?access_token=' + access_token\n",
    "post_data = \"{\\\"version\\\":\\\"3.0\\\",\\\"service_id\\\":\\\"S80122\\\",\\\"session_id\\\":\\\"\\\",\\\"log_id\\\":\\\"1114749\\\",\\\"request\\\":{\\\"terminal_id\\\":\\\"88888\\\",\\\"query\\\":\\\"你好\\\"}} \"\n",
    "headers = {'content-type': 'application/x-www-form-urlencoded'}\n",
    "response = requests.post(url, data=post_data.encode('utf-8'), headers=headers)\n",
    "\n",
    "text1 = json.loads(response.text)\n",
    "print(text1['result']['responses'][0]['actions'][0]['say'])\n"
   ]
  }
 ],
 "metadata": {
  "kernelspec": {
   "display_name": "Python 3",
   "language": "python",
   "name": "python3"
  },
  "language_info": {
   "codemirror_mode": {
    "name": "ipython",
    "version": 3
   },
   "file_extension": ".py",
   "mimetype": "text/x-python",
   "name": "python",
   "nbconvert_exporter": "python",
   "pygments_lexer": "ipython3",
   "version": "3.7.9"
  },
  "orig_nbformat": 4,
  "vscode": {
   "interpreter": {
    "hash": "a23257344542c70b70a498512f46db94a3a7f44d371a6893c689768adca66338"
   }
  }
 },
 "nbformat": 4,
 "nbformat_minor": 2
}
