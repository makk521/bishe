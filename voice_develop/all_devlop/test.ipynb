{
 "cells": [
  {
   "cell_type": "code",
   "execution_count": 1,
   "metadata": {},
   "outputs": [],
   "source": [
    "a = {'result': {'version': '3.0', 'context': {'SYS_PRESUMED_SKILLS': ['1112183', '1112185', '1112210', '1112211', '1112213', '1112216', '1112240', '1278988'], 'SYS_PRESUMED_HIST': ['枣庄今天天气怎么样？', '枣庄今天晴转多云气温零下3到零上8度~'], 'SYS_VARS': {}}, 'timestamp': '2023-02-15 22:56:20.206', 'service_id': 'S80122', 'session_id': 'chat-session-id-1676472979973-49396d749ccf492aa2f3684a3ad52097', 'log_id': '1114749', 'ref_id': 'g4mfp_20230215225619_1563904287', 'responses': [{'status': 0, 'msg': 'ok', 'origin': '1112240', 'schema': {'intents': [{'slots': [{'slot_name': 'user_time', 'slot_values': [{'confidence': 100.0, 'begin': 2, 'length': 2, 'original_word': '今天', 'normalized_word': '2023-02-15', 'session_offset': 0, 'merge_method': 'ADD', 'sub_slots': []}]}, {'slot_name': 'user_loc', 'slot_values': [{'confidence': 100.0, 'begin': 0, 'length': 2, 'original_word': '枣庄', 'normalized_word': '枣庄', 'session_offset': 0, 'merge_method': 'ADD', 'sub_slots': []}]}], 'intent_name': 'USER_WEATHER', 'intent_confidence': 100.0, 'slu_info': {'slu_intent': 'USER_WEATHER', 'match_info': {'from_who': 'template', 'match_template': {'threshold': 0.800000011920929, 'template_id': 6788858, 'match_pattern': ['[D:user_loc]', '[D:user_time]', '[D:kw_weatherstatus]'], 'real_threshold': 1.0}}}}]}, 'actions': [{'confidence': 100.0, 'say': '枣庄今天晴转多云气温零下3到零上8度~', 'type': 'satisfy', 'options': [], 'action_id': 'build_weather_satisfy', 'img': []}], 'raw_query': '枣庄今天天气怎么样？', 'sentiment_analysis': {'label': 'neutral', 'pval': 0.998218834400177}, 'lexical_analysis': [{'term': '枣庄', 'weight': 0.2831730246543884, 'type': 'user_loc', 'etypes': ['user_loc', 'sys_loc_city', 'sys_loc'], 'basic_word': ['枣庄']}, {'term': '今天', 'weight': 0.1869835555553436, 'type': 'sys_time', 'etypes': ['sys_time', 'sys_time_day', 'user_time'], 'basic_word': ['今天']}, {'term': '天气', 'weight': 0.2831730246543884, 'type': '21', 'etypes': [], 'basic_word': ['天气']}, {'term': '怎么', 'weight': 0.1041735336184502, 'type': '30', 'etypes': [], 'basic_word': ['怎么']}, {'term': '样', 'weight': 0.1041735336184502, 'type': '3', 'etypes': [], 'basic_word': ['样']}, {'term': '？', 'weight': 0.0383233018219471, 'type': '37', 'etypes': [], 'basic_word': ['？']}], 'slot_history': [{'slot_name': 'user_time', 'slot_values': [{'confidence': 100.0, 'begin': 2, 'length': 2, 'original_word': '今天', 'normalized_word': '2023-02-15', 'session_offset': 0, 'merge_method': 'ADD', 'sub_slots': []}]}, {'slot_name': 'user_loc', 'slot_values': [{'confidence': 100.0, 'begin': 0, 'length': 2, 'original_word': '枣庄', 'normalized_word': '枣庄', 'session_offset': 0, 'merge_method': 'ADD', 'sub_slots': []}]}]}, {'status': 0, 'msg': 'ok', 'origin': '1278988', 'schema': {'intents': [{'slots': [], 'intent_name': 'BUILT_CHAT', 'intent_confidence': 1.0}]}, 'actions': [{'confidence': 0.467237651348114, 'say': '雾霾重度污染', 'type': 'chat', 'action_id': 'chat_satisfy', 'img': []}, {'confidence': 0.4657291769981385, 'say': '挺好的，挺暖和。', 'type': 'chat', 'action_id': 'chat_satisfy', 'img': []}, {'confidence': 0.4657291769981385, 'say': '今天天气不错，挺风和日丽的', 'type': 'chat', 'action_id': 'chat_satisfy', 'img': []}], 'raw_query': '枣庄今天天气怎么样？', 'slot_history': []}, {'status': 0, 'msg': 'ok', 'origin': '1112183', 'schema': {'intents': [{'slots': [], 'intent_name': '', 'intent_confidence': 0.0}]}, 'actions': [{'confidence': 100.0, 'say': '我不知道应该怎么答复您。', 'type': 'failure', 'options': [], 'action_id': 'fail_action', 'img': []}], 'raw_query': '枣庄今天天气怎么样？', 'slot_history': []}, {'status': 0, 'msg': 'ok', 'origin': '1112185', 'schema': {'intents': [{'slots': [], 'intent_name': '', 'intent_confidence': 0.0, 'slu_info': {'slu_intent': 'SYS_OTHER', 'match_info': {'from_who': 'model'}}}]}, 'actions': [{'confidence': 100.0, 'say': '我不知道应该怎么答复您。', 'type': 'failure', 'options': [], 'action_id': 'fail_action', 'img': []}], 'raw_query': '枣庄今天天气怎么样？', 'sentiment_analysis': {'label': 'neutral', 'pval': 0.998218834400177}, 'lexical_analysis': [{'term': '枣庄', 'weight': 0.2831730246543884, 'type': 'sys_loc', 'etypes': ['sys_loc', 'sys_loc_city'], 'basic_word': ['枣庄']}, {'term': '今天', 'weight': 0.18698355555534363, 'type': 'sys_time', 'etypes': ['sys_time', 'sys_time_day'], 'basic_word': ['今天']}, {'term': '天气', 'weight': 0.2831730246543884, 'type': '21', 'etypes': [], 'basic_word': ['天气']}, {'term': '怎么', 'weight': 0.10417353361845016, 'type': '30', 'etypes': [], 'basic_word': ['怎么']}, {'term': '样', 'weight': 0.10417353361845016, 'type': '3', 'etypes': [], 'basic_word': ['样']}, {'term': '？', 'weight': 0.0383233018219471, 'type': '37', 'etypes': [], 'basic_word': ['？']}], 'slot_history': []}, {'status': 0, 'msg': 'ok', 'origin': '1112210', 'schema': {'intents': [{'slots': [], 'intent_name': '', 'intent_confidence': 0.0}]}, 'actions': [{'confidence': 100.0, 'say': '我不知道该怎么答复您。', 'type': 'failure', 'options': [], 'action_id': 'fail_action', 'img': []}], 'raw_query': '枣庄今天天气怎么样？', 'slot_history': []}, {'status': 0, 'msg': 'ok', 'origin': '1112211', 'schema': {'intents': [{'slots': [], 'intent_name': '', 'intent_confidence': 0.0}]}, 'actions': [{'confidence': 100.0, 'say': '我不知道该怎么答复您。', 'type': 'failure', 'options': [], 'action_id': 'fail_action', 'img': []}], 'raw_query': '枣庄今天天气怎么样？', 'sentiment_analysis': {'label': 'neutral', 'pval': 0.998}, 'lexical_analysis': [{'term': '枣庄', 'weight': 0.283, 'type': 'sys_loc', 'etypes': ['sys_loc', 'sys_loc_city'], 'basic_word': ['枣庄']}, {'term': '今天', 'weight': 0.186, 'type': 'sys_time', 'etypes': ['sys_time', 'sys_time_generic'], 'basic_word': ['今天']}, {'term': '天气', 'weight': 0.283, 'type': '21', 'etypes': [], 'basic_word': ['天气']}, {'term': '怎么样', 'weight': 0.208, 'type': 'user_music_prop', 'etypes': ['user_music_prop'], 'basic_word': ['怎么', '样']}, {'term': '？', 'weight': 0.038, 'type': '37', 'etypes': [], 'basic_word': ['？']}], 'slot_history': []}, {'status': 0, 'msg': 'ok', 'origin': '1112213', 'schema': {'intents': [{'slots': [], 'intent_name': '', 'intent_confidence': 0.0}]}, 'actions': [{'confidence': 100.0, 'say': '这个我暂时还找不到，我会再补充更多音乐资源的', 'type': 'failure', 'options': [], 'action_id': 'fail_action', 'img': []}], 'raw_query': '枣庄今天天气怎么样？', 'slot_history': []}, {'status': 0, 'msg': 'ok', 'origin': '1112216', 'schema': {'intents': [{'slots': [], 'intent_name': '', 'intent_confidence': 100.0}]}, 'actions': [{'confidence': 100.0, 'say': '我不知道应该怎么答复您。', 'type': 'failure', 'options': [], 'action_id': 'fail_action', 'img': []}], 'raw_query': '枣庄今天天气怎么样？', 'sentiment_analysis': {'label': 'neutral', 'pval': 0.998}, 'lexical_analysis': [{'term': '枣庄', 'weight': 0.283, 'type': 'sys_loc', 'etypes': ['sys_loc', 'sys_loc_city'], 'basic_word': ['枣庄']}, {'term': '今天', 'weight': 0.186, 'type': 'sys_time', 'etypes': ['sys_time', 'sys_time_generic'], 'basic_word': ['今天']}, {'term': '天气', 'weight': 0.283, 'type': 'user_type', 'etypes': ['user_type'], 'basic_word': ['天气']}, {'term': '怎么', 'weight': 0.104, 'type': '30', 'etypes': [], 'basic_word': ['怎么']}, {'term': '样', 'weight': 0.104, 'type': '3', 'etypes': [], 'basic_word': ['样']}, {'term': '？', 'weight': 0.038, 'type': '37', 'etypes': [], 'basic_word': ['？']}], 'slot_history': []}]}, 'error_code': 0, 'error_msg': 'success'}"
   ]
  },
  {
   "cell_type": "code",
   "execution_count": 2,
   "metadata": {},
   "outputs": [
    {
     "data": {
      "text/plain": [
       "'枣庄今天晴转多云气温零下3到零上8度~'"
      ]
     },
     "execution_count": 2,
     "metadata": {},
     "output_type": "execute_result"
    }
   ],
   "source": [
    "a['result']['context']['SYS_PRESUMED_HIST'][-1]"
   ]
  },
  {
   "cell_type": "code",
   "execution_count": 5,
   "metadata": {},
   "outputs": [
    {
     "name": "stdout",
     "output_type": "stream",
     "text": [
      "沉默是今晚的康桥（闭上嘴巴.jpg）\n"
     ]
    }
   ],
   "source": [
    "import json\n",
    "import requests\n",
    "\n",
    "def chat_own_think(Question):\n",
    "    temp = requests.get('https://api.ownthink.com/bot?spoken=' + Question)\n",
    "    answer = temp.text\n",
    "    answer = json.loads(answer)\n",
    "    return answer['data']['info']['text']\n",
    "print(chat_own_think('今天星期几'))"
   ]
  }
 ],
 "metadata": {
  "kernelspec": {
   "display_name": "Python 3",
   "language": "python",
   "name": "python3"
  },
  "language_info": {
   "codemirror_mode": {
    "name": "ipython",
    "version": 3
   },
   "file_extension": ".py",
   "mimetype": "text/x-python",
   "name": "python",
   "nbconvert_exporter": "python",
   "pygments_lexer": "ipython3",
   "version": "3.7.9"
  },
  "orig_nbformat": 4,
  "vscode": {
   "interpreter": {
    "hash": "a23257344542c70b70a498512f46db94a3a7f44d371a6893c689768adca66338"
   }
  }
 },
 "nbformat": 4,
 "nbformat_minor": 2
}
